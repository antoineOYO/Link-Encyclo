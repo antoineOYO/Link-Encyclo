{
 "cells": [
  {
   "cell_type": "markdown",
   "metadata": {},
   "source": [
    "sT005Ukj9y5I7VgVysq8lkw6M6jjmJUn"
   ]
  },
  {
   "cell_type": "code",
   "execution_count": 14,
   "metadata": {},
   "outputs": [
    {
     "name": "stdout",
     "output_type": "stream",
     "text": [
      "France is renowned for its cheese, and there are hundreds of varieties to choose from, each with its unique flavor, texture, and aroma. The \"best\" French cheese can depend on personal preference, but here are a few popular ones:\n",
      "\n",
      "1. Comté: This is a hard cheese made from unpasteurized cow's milk in the Franche-Comté region of eastern France. It has a nutty, slightly sweet flavor.\n",
      "\n",
      "2. Brie de Meaux: Often simply referred to as Brie, this is a soft cheese with a white rind. It's known for its creamy texture and mild, slightly earthy flavor.\n",
      "\n",
      "3. Roquefort: This is a blue cheese made from sheep's milk. It has a strong, tangy flavor and a crumbly texture.\n",
      "\n",
      "4. Camembert: Similar to Brie, Camembert is a soft cheese with a white rind. However, it has a stronger, more earthy flavor.\n",
      "\n",
      "5. Reblochon: This is a soft, washed-rind cheese from the Savoie region of France. It has a nutty, slightly fruity flavor and a soft, creamy texture.\n",
      "\n",
      "6. Époisses: This is a pungent soft cheese made from cow's milk. It has a strong, slightly salty flavor and a creamy texture.\n"
     ]
    }
   ],
   "source": [
    "from mistralai.client import MistralClient\n",
    "from mistralai.models.chat_completion import ChatMessage\n",
    "\n",
    "api_key = \"sT005Ukj9y5I7VgVysq8lkw6M6jjmJUn\"\n",
    "model = \"mistral-large-latest\"\n",
    "\n",
    "client = MistralClient(api_key=api_key)\n",
    "\n",
    "chat_response = client.chat(\n",
    "    model=model,\n",
    "    messages=[ChatMessage(role=\"user\", content=\"What is the best French cheese?\")]\n",
    ")\n",
    "\n",
    "print(chat_response.choices[0].message.content)"
   ]
  },
  {
   "cell_type": "code",
   "execution_count": 15,
   "metadata": {},
   "outputs": [
    {
     "name": "stdout",
     "output_type": "stream",
     "text": [
      "{\"name\": \"Coq au Vin\", \"ingredients\": [\"chicken\", \"red wine\", \"bacon\", \"mushrooms\", \"onions\", \"garlic\", \"flour\", \"chicken broth\", \"thyme\", \"bay leaves\", \"butter\", \"olive oil\", \"salt\", \"pepper\"]}\n"
     ]
    }
   ],
   "source": [
    "messages = [\n",
    "    ChatMessage(role=\"user\", content=\"What is the best French meal? Return the name and the ingredients in short JSON object.\")\n",
    "]\n",
    "\n",
    "chat_response = client.chat(\n",
    "    model=model,\n",
    "    response_format={\"type\": \"json_object\"},\n",
    "    messages=messages,\n",
    ")\n",
    "\n",
    "print(chat_response.choices[0].message.content)"
   ]
  },
  {
   "cell_type": "markdown",
   "metadata": {},
   "source": [
    "# Fine Tuning"
   ]
  },
  {
   "cell_type": "code",
   "execution_count": 16,
   "metadata": {},
   "outputs": [],
   "source": [
    "json = {\n",
    "    \"messages\": [\n",
    "        {\n",
    "            \"role\": \"user\",\n",
    "            \"content\": \"User interaction n°1 contained in document n°2\"\n",
    "        },\n",
    "        {\n",
    "            \"role\": \"assistant\",\n",
    "            \"content\": \"Bot interaction n°1 contained in document n°2\"\n",
    "        },\n",
    "        {\n",
    "            \"role\": \"user\",\n",
    "            \"content\": \"User interaction n°2 contained in document n°1\"\n",
    "        },\n",
    "        {\n",
    "            \"role\": \"assistant\",\n",
    "            \"content\": \"Bot interaction n°2 contained in document n°1\"\n",
    "        }\n",
    "    ]\n",
    "}"
   ]
  },
  {
   "cell_type": "code",
   "execution_count": null,
   "metadata": {},
   "outputs": [],
   "source": [
    "from mistralai.models.jobs import TrainingParameters\n",
    "\n",
    "created_jobs = client.jobs.create(\n",
    "    model=model,\n",
    "    training_files=[training_data.id],\n",
    "    validation_files=[validation_data.id],\n",
    "    hyperparameters=TrainingParameters(\n",
    "        training_steps=10,\n",
    "        learning_rate=0.0001,\n",
    "        )\n",
    ")\n",
    "created_jobs"
   ]
  }
 ],
 "metadata": {
  "kernelspec": {
   "display_name": "base",
   "language": "python",
   "name": "python3"
  },
  "language_info": {
   "codemirror_mode": {
    "name": "ipython",
    "version": 3
   },
   "file_extension": ".py",
   "mimetype": "text/x-python",
   "name": "python",
   "nbconvert_exporter": "python",
   "pygments_lexer": "ipython3",
   "version": "3.11.5"
  }
 },
 "nbformat": 4,
 "nbformat_minor": 2
}
