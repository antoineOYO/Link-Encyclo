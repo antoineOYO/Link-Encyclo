{
 "cells": [
  {
   "cell_type": "markdown",
   "metadata": {},
   "source": [
    "# Building the `Book` instance with basic info\n",
    "The ARTFL identifiers come from the project :\n",
    "> Jaucourt, WILDSHUSEN ,  Encyclopédie, ou dictionnaire raisonné des sciences, des arts et des métiers, etc., eds. Denis Diderot and Jean le Rond d'Alembert. University of Chicago: ARTFL Encyclopédie Project (Autumn 2022 Edition), Robert Morrissey and Glenn Roe (eds): https://encyclopedie.uchicago.edu. Accessed on 29 August, 2024"
   ]
  },
  {
   "cell_type": "code",
   "execution_count": 2,
   "metadata": {},
   "outputs": [],
   "source": [
    "import sys\n",
    "sys.path.append('/home/antoine/Documents/GitHub/linkencyclo')\n",
    "datapath = '/home/antoine/Documents/GitHub/datas/'\n",
    "\n",
    "from EncycloObject import Article, Book\n",
    "import pandas as pd\n",
    "import json\n",
    "import pickle"
   ]
  },
  {
   "cell_type": "code",
   "execution_count": 3,
   "metadata": {},
   "outputs": [
    {
     "data": {
      "text/plain": [
       "Index(['volume', 'numero', 'headphrase', 'authors', 'text', 'artfl', 'enccre',\n",
       "       'article_id'],\n",
       "      dtype='object')"
      ]
     },
     "execution_count": 3,
     "metadata": {},
     "output_type": "execute_result"
    }
   ],
   "source": [
    "df = pd.read_excel(datapath + 'edda_27082024_clean.xlsx')\n",
    "df.columns"
   ]
  },
  {
   "cell_type": "code",
   "execution_count": 4,
   "metadata": {},
   "outputs": [],
   "source": [
    "plainbook = Book(description='basic Book with full text ')\n",
    "\n",
    "for _,row in df.iterrows():\n",
    "    current_article = Article(\n",
    "        volume=row['volume'],\n",
    "        numero=row['numero'],\n",
    "        headphrase=row['headphrase'],\n",
    "        authors=row['authors'],\n",
    "        text=row['text'].replace('\\n',' ').strip(),\n",
    "        enccre=row['enccre'],\n",
    "    )\n",
    "    plainbook.articles.append(current_article)"
   ]
  },
  {
   "cell_type": "code",
   "execution_count": 5,
   "metadata": {},
   "outputs": [
    {
     "data": {
      "text/plain": [
       "Book with 15510 articles\n",
       "basic Book with full text \n",
       "Attributes :\n",
       "dict_keys(['volume', 'numero', 'headphrase', 'authors', 'text', 'hash', 'artfl', 'enccre', 'enccre_link'])"
      ]
     },
     "execution_count": 5,
     "metadata": {},
     "output_type": "execute_result"
    }
   ],
   "source": [
    "plainbook"
   ]
  },
  {
   "cell_type": "markdown",
   "metadata": {},
   "source": [
    "Opening the annotations of P. Nugues :"
   ]
  },
  {
   "cell_type": "code",
   "execution_count": 6,
   "metadata": {},
   "outputs": [],
   "source": [
    "with open(datapath+'diderot_1751_wd.json', 'r') as f:\n",
    "    diderot_wd = json.loads(f.read())"
   ]
  },
  {
   "cell_type": "markdown",
   "metadata": {},
   "source": [
    "`entree_id` can be a key for each article. These identifiers come from the ENCCRE project ([http://enccre.academie-sciences.fr/encyclopedie/](http://enccre.academie-sciences.fr/encyclopedie/))"
   ]
  },
  {
   "cell_type": "code",
   "execution_count": 7,
   "metadata": {},
   "outputs": [
    {
     "data": {
      "text/plain": [
       "(15274, 15274)"
      ]
     },
     "execution_count": 7,
     "metadata": {},
     "output_type": "execute_result"
    }
   ],
   "source": [
    "diderot_dic = {a['entreeid']:a for a in diderot_wd}\n",
    "len(diderot_wd), len(diderot_dic)"
   ]
  },
  {
   "cell_type": "markdown",
   "metadata": {},
   "source": [
    "The author annotated the headphrase, but also the person's names when one paragraph is dedicated to their biography.\n",
    "\n",
    "So, how many articles have a headphrase successfully (!=Q0) tagged by P. Nugues? "
   ]
  },
  {
   "cell_type": "code",
   "execution_count": 8,
   "metadata": {},
   "outputs": [
    {
     "name": "stdout",
     "output_type": "stream",
     "text": [
      "Number of articles having at least one QID :  9631\n",
      "Number of headphrases with a QID != Q0 :  9540\n"
     ]
    }
   ],
   "source": [
    "resolved_diderot = [item for item in diderot_wd if 'qid' in item.keys()]\n",
    "print('Number of articles having at least one QID : ', len(resolved_diderot))\n",
    "geocoded = [geocoded for geocoded in resolved_diderot if geocoded['qid'][0] != 'Q0']\n",
    "print('Number of headphrases with a QID != Q0 : ', len(geocoded))\n"
   ]
  },
  {
   "cell_type": "markdown",
   "metadata": {},
   "source": [
    "# Adding the QID to each article"
   ]
  },
  {
   "cell_type": "markdown",
   "metadata": {},
   "source": [
    "It appears that some `Article` built with our data have a wrong Enccre id.\n",
    "To match each of our Articles with the entries from P. Nugues' work, we will hence compare the article bodies.\n",
    "\n",
    "In addition, the content of the article bodies differ slightly in both ARTFL and ENCCRE vary, as illustrated below. We rely hence on a fuzzy string similarity function `string_similarity`\n",
    "\n",
    "> WILDSHUSEN, (Géog. mod.)​​ petite ville **d’Alleau** cercle de Westphalie, sur la riviere de Hunde, aux confins du comté d’Oldenbourg, & la capitale d’un petit pays auquel elle donne son nom. (D. J.) http://enccre.academie-sciences.fr/encyclopedie/article/v17-1360-0\n",
    "> \n",
    "> WILDSHUSEN, (Géog. mod.) petite ville **d'Allemagne au**  cercle de Westphalie, sur la riviere de Hunde, aux confins du comté d'Oldenbourg, & la capitale d'un petit pays auquel elle donne son nom. (D. J.) https://artflsrv04.uchicago.edu/philologic4.7/encyclopedie0922/navigate/17/2279 \n"
   ]
  },
  {
   "cell_type": "code",
   "execution_count": 9,
   "metadata": {},
   "outputs": [
    {
     "data": {
      "text/plain": [
       "('a s petite riviere de france qui a sa source pres ',\n",
       " 'a f petite riviere de france qui a sa source pres ',\n",
       " True)"
      ]
     },
     "execution_count": 9,
     "metadata": {},
     "output_type": "execute_result"
    }
   ],
   "source": [
    "from difflib import SequenceMatcher\n",
    "import re\n",
    "from unidecode import unidecode\n",
    "\n",
    "def string_similarity(\n",
    "        s1:str,\n",
    "        s2:str,\n",
    "        threshold:float = 0.95,\n",
    "        shorten:int = 50\n",
    "        )-> tuple[str,str,bool]:\n",
    "    \"\"\" \n",
    "    Because ENCRRE's OCR and ARTFL's one have slight differences, we need to tolarate some differences.\n",
    "\n",
    "    Compares two input strings\n",
    "    Returns a tuple with the cleaned strings and a boolean indicating if they are similar enough\n",
    "    if short is True, inspects only the 100 first caracters of each string\n",
    "    \"\"\"\n",
    "    # Cleaning the strings\n",
    "    s1_cleaned = unidecode(s1).lower().replace('\\u200b', '').replace('\\n', '')#.replace('  ', ' ').strip()\n",
    "    s2_cleaned = unidecode(s2).lower().replace('\\u200b', '').replace('\\n', '')#.replace('  ', ' ').strip()\n",
    "    s1_cleaned = re.sub(r'[^a-z\\s]', '',s1_cleaned).replace('  ', ' ').strip()\n",
    "    s2_cleaned = re.sub(r'[^a-z\\s]', '',s2_cleaned).replace('  ', ' ').strip()\n",
    "\n",
    "    if shorten :\n",
    "        s1_cleaned = s1_cleaned[: min(shorten,min(len(s1_cleaned), len(s2_cleaned)))]\n",
    "        s2_cleaned = s2_cleaned[: min(shorten,min(len(s1_cleaned), len(s2_cleaned)))]\n",
    "\n",
    "\n",
    "    similarity_ratio = SequenceMatcher(None, s1_cleaned, s2_cleaned).ratio()\n",
    "\n",
    "    return s1_cleaned, s2_cleaned, similarity_ratio >= threshold\n",
    "\n",
    "# Example usage\n",
    "s1 = '*\\u200b A, s. petite riviere de France, \\n qui a sa source près de Fontaines en Sologne.'\n",
    "s2 = '* A, f. petite rivie\\nre de France, qui a sa source près de Fontaines en ave slight differences, we need to tolarate some differences'\n",
    "\n",
    "s1_cleaned, s2_cleaned, check = string_similarity(s1, s2)\n",
    "s1_cleaned, s2_cleaned, check"
   ]
  },
  {
   "cell_type": "code",
   "execution_count": 10,
   "metadata": {},
   "outputs": [],
   "source": [
    "def read_enccre_id(id:str)-> tuple[int,int,int]:\n",
    "    \"\"\"read an enccre id\"\"\"\n",
    "    m = re.match(r'v(\\d+)-(\\d+)-(\\d+)', id)\n",
    "    if m:\n",
    "        return (int(m.group(1)), int(m.group(2)), int(m.group(3)))\n",
    "    else:\n",
    "        return None"
   ]
  },
  {
   "cell_type": "markdown",
   "metadata": {},
   "source": [
    "We iterate over the articles with a headphrase tagged successfully to find the related `Article` instance from our datas"
   ]
  },
  {
   "cell_type": "code",
   "execution_count": 11,
   "metadata": {},
   "outputs": [
    {
     "name": "stdout",
     "output_type": "stream",
     "text": [
      "Multiple candidates found for  v1-2865-0\n",
      ">>> ariano geog ville ditalie au royaume de naples dan\n",
      "+++ ariano geog ville ditalie au royaume de naples dan\n",
      "\n",
      "Multiple candidates found for  v1-3123-0\n",
      ">>> arve geog riviere de fossigny en savoie elle sort \n",
      "+++ arve geog riviere de fossigny en savoie elle sort \n",
      "\n",
      "Multiple candidates found for  v1-3127-0\n",
      ">>> arun petite riviere du comte de sussex en angleter\n",
      "+++ arun petite riviere du comte de sussex en angleter\n",
      "\n",
      "Multiple candidates found for  v2-1062-0\n",
      ">>> bernaw geog petite ville dallemagne dans lelectora\n",
      "+++ bernaw geog petite ville dallemagne dans lelectora\n",
      "\n",
      "Multiple candidates found for  v2-1063-0\n",
      ">>> bernbourg geog petite ville dallemagne du cercle d\n",
      "+++ bernbourg geog petite ville dallemagne du cercle d\n",
      "\n",
      "Multiple candidates found for  v2-1317-0\n",
      ">>> binche geog ville ancienne du hainaut sur la rivie\n",
      "+++ binche geog ville ancienne du hainaut sur la rivie\n",
      "\n",
      "Multiple candidates found for  v2-2581-0\n",
      ">>> bulach geog petite ville dallemagne en souabe au d\n",
      "+++ bulach geog petite ville dallemagne en souabe au d\n",
      "\n",
      "Multiple candidates found for  v2-2790-0\n",
      ">>> cabrera ou capraria geog petite ile despagne dans \n",
      "+++ cabrera ou capraria geog petite ile despagne dans \n",
      "\n",
      "Multiple candidates found for  v2-3767-0\n",
      ">>> carte s f geog figure plane qui represente la surf\n",
      "+++ carte s f geog figure plane qui represente la surf\n",
      "\n",
      "Multiple candidates found for  v5-127-0\n",
      ">>> dorsten geog mod ville dallemagne au cercle de wes\n",
      "+++ dorsten geog mod ville dallemagne au cercle de wes\n",
      "\n",
      "MISMATCH :  v8-150-0\n",
      ">>> hallein geog haliola petite ville dallemagne au ce\n",
      "--- hale s m physiq qualite de latmosphere dont leffet\n",
      "+++ hallein geog haliola petite ville dallemagne au ce\n",
      "8/195/HALLEIN\n",
      "\n",
      "MISMATCH :  v8-151-0\n",
      ">>> hallenberg geogr petite ville dallemagne en westph\n",
      "--- halen geog petite ville des paysbas dans le braban\n",
      "+++ hallenberg geogr petite ville dallemagne en westph\n",
      "8/196/HALLENBERG\n",
      "\n",
      "MISMATCH :  v8-206-0\n",
      ">>> hamm geog ville dallemagne en westphalie dans le c\n",
      "--- hama s m hist anc instrumens dont on se servoit a \n",
      "+++ hamm geog ville dallemagne en westphalie dans le c\n",
      "8/254/HAMM\n",
      "\n",
      "MISMATCH :  v8-231-0\n",
      ">>> hanseatique geogr ville voyez hanse\n",
      "--- han s m comm espece de caravanserai\n",
      "+++ hanseatique geogr ville voyez hanse\n",
      "8/287/HANSEATIQUE\n",
      "\n",
      "MISMATCH :  v8-260-0\n",
      ">>> hardessen geog ville dallemagne dans la principaut\n",
      "--- har s m hist mod cest chez les indiens le nom de l\n",
      "+++ hardessen geog ville dallemagne dans la principaut\n",
      "8/318/HARDESSEN\n",
      "\n",
      "MISMATCH :  v9-2126-0\n",
      ">>> luxembourg le duche de geog lune des provinces des\n",
      "--- luxe cest lusage quon fait des richesses de lindus\n",
      "+++ luxembourg le duche de geog lune des provinces des\n",
      "9/3575/LUXEMBOURG, le duché de\n",
      "\n",
      "MISMATCH :  v10-1019-1\n",
      ">>> mer mediterranee voyez mediterranee\n",
      "--- mer marine ce mot semploie dans plu\n",
      "\n",
      "MISMATCH :  v10-1019-2\n",
      ">>> mer noire voyez noire\n",
      "--- mer mythol nonseuleme\n",
      "\n",
      "MISMATCH :  v10-1019-3\n",
      ">>> mer rouge voyez rouge\n",
      "--- mer geogr petite vill\n",
      "\n",
      "MISMATCH :  v10-1019-4\n",
      ">>> mer caspienne voyez caspienne lacsur les differens\n",
      "--- mer caspienne geog voyez caspienne je najouterai q\n",
      "\n",
      "MISMATCH :  v10-1019-9\n",
      ">>> mer geogr petite ville de france dans le blaisois \n",
      "--- mer dafrique geog partie de la mer mediterranee en\n",
      "+++ mer geogr petite ville de france dans le blaisois \n",
      "10/1665/Mer\n",
      "\n",
      "Multiple candidates found for  v10-1738-0\n",
      ">>> moncon geog en latin moderne montio ville forte de\n",
      "+++ moncon geog en latin moderne montio ville forte de\n",
      "\n",
      "Multiple candidates found for  v11-607-0\n",
      ">>> nio ou ios geog anc mod ile de larchi pel entre ce\n",
      "+++ nio ou ios geog anc mod ile de larchipel entre cel\n",
      "\n",
      "Multiple candidates found for  v11-608-0\n",
      ">>> nions geog petite ville de france en dauphine dans\n",
      "+++ nions geog petite ville de france en dauphine dans\n",
      "\n",
      "Multiple candidates found for  v14-2592-0\n",
      ">>> scanderborg geog mod petite ville de danemark dans\n",
      "+++ scanderborg geog mod petite ville de danemark dans\n",
      "\n",
      "Multiple candidates found for  v17-875-0\n",
      ">>> volturara geog mod ou vulturaria petite ville dita\n",
      "+++ volturara geog mod ou vulturaria petite ville dita\n",
      "\n",
      "Multiple candidates found for  v17-881-0\n",
      ">>> volvestre geog mod petit pays de france dans le la\n",
      "+++ volvestre geog mod petit pays de france dans le la\n",
      "\n",
      "MISMATCH :  v17-1360-0\n",
      ">>> wildshusen geog mod petite ville dalleau cercle de\n",
      "--- wildshusen geog mod petite ville dallemagne au cer\n",
      "\n"
     ]
    }
   ],
   "source": [
    "# iterate over the articles with QIDs\n",
    "for tagged in geocoded:\n",
    "\n",
    "    # search for the corresponding article in our datas\n",
    "    candidates = [a for a in plainbook if hasattr(a,'enccre') and a.enccre == tagged['entreeid']]\n",
    "\n",
    "\n",
    "    if candidates :\n",
    "\n",
    "        if len(candidates) > 1:\n",
    "            for c in candidates:\n",
    "                #print(c.headphrase)\n",
    "                cand_clean, tagged_clean, check1 = string_similarity(\n",
    "                    c.text,\n",
    "                    tagged['texte'],\n",
    "                    threshold=0.9,\n",
    "                    shorten=50)\n",
    "                if check1:\n",
    "                    candidate = c\n",
    "                    print('Multiple candidates found for ', tagged['entreeid'])\n",
    "                    print('>>>', tagged_clean)\n",
    "                    print('+++', cand_clean)\n",
    "                    print()\n",
    "                    break\n",
    "        else :\n",
    "            candidate = candidates[0]\n",
    "\n",
    "        # check if article is indeed the same\n",
    "        cand_clean, tagged_clean, check1 = string_similarity(\n",
    "            candidate.text,\n",
    "            tagged['texte'],\n",
    "            threshold=0.9,\n",
    "            shorten=50)\n",
    "\n",
    "        # if both are correct, we continue : the enccre_id is correct\n",
    "        if check1 :\n",
    "            candidate.enccre_id = tagged['entreeid']\n",
    "            continue\n",
    "\n",
    "        # if not, we search for a candidate, based on the text this time\n",
    "        else :\n",
    "            print('MISMATCH : ', tagged['entreeid'])\n",
    "            print('>>>', tagged_clean)\n",
    "            print('---', cand_clean)\n",
    "        \n",
    "            # manual search for candidates\n",
    "            vol,_,_ = read_enccre_id(tagged['entreeid'])\n",
    "            candidates = [a for a in plainbook if a.volume == vol]\n",
    "            for c in candidates :\n",
    "                # article body check\n",
    "                c_clean, tagged_clean, check1 = string_similarity(\n",
    "                    c.text,\n",
    "                    tagged['texte'],\n",
    "                    threshold=0.90,\n",
    "                    shorten=50)\n",
    "                \n",
    "                # headĥrase check\n",
    "                c_head, tagged_head, check2 = string_similarity(\n",
    "                    c.headphrase,\n",
    "                    tagged['vedette'],\n",
    "                    threshold=0.95,\n",
    "                    shorten=50)\n",
    "                \n",
    "                if check1 and check2:\n",
    "                    print('+++', c_clean)\n",
    "                    print(c.hash)\n",
    "                    \n",
    "\n",
    "                    # we update the enccre_id\n",
    "                    c.enccre_id = tagged['entreeid']\n",
    "\n",
    "                    break\n",
    "            print()\n",
    "            continue"
   ]
  },
  {
   "cell_type": "markdown",
   "metadata": {},
   "source": [
    "We finnaly add the QID "
   ]
  },
  {
   "cell_type": "code",
   "execution_count": 12,
   "metadata": {},
   "outputs": [],
   "source": [
    "for tagged in geocoded :\n",
    "    related_article = [a for a in plainbook if hasattr(a,'enccre_id') and a.enccre_id == tagged['entreeid']]\n",
    "    if related_article:\n",
    "        if len(related_article) > 1:\n",
    "            print('Multiple candidates found for ', tagged['entreeid'])\n",
    "            for c in related_article:\n",
    "                print(c.headphrase)\n",
    "            continue\n",
    "        related_article = related_article[0]\n",
    "        related_article.gold_qid = tagged['qid'][0]"
   ]
  },
  {
   "cell_type": "markdown",
   "metadata": {},
   "source": [
    "**How many tagged headphrase do we now have for our downstream Entity Linking task ?**"
   ]
  },
  {
   "cell_type": "code",
   "execution_count": 13,
   "metadata": {},
   "outputs": [
    {
     "data": {
      "text/plain": [
       "8987"
      ]
     },
     "execution_count": 13,
     "metadata": {},
     "output_type": "execute_result"
    }
   ],
   "source": [
    "len([a for a in plainbook if hasattr(a,'gold_qid')])"
   ]
  },
  {
   "cell_type": "markdown",
   "metadata": {},
   "source": [
    "**How many tags are lost ?**"
   ]
  },
  {
   "cell_type": "code",
   "execution_count": 14,
   "metadata": {},
   "outputs": [
    {
     "name": "stdout",
     "output_type": "stream",
     "text": [
      "553\n"
     ]
    }
   ],
   "source": [
    "lost_tags=0\n",
    "for tagged in geocoded :\n",
    "    related_article = [a for a in plainbook if hasattr(a,'enccre_id') and a.enccre_id == tagged['entreeid']]\n",
    "    if not related_article :\n",
    "        lost_tags+=1\n",
    "print(lost_tags)"
   ]
  },
  {
   "cell_type": "markdown",
   "metadata": {},
   "source": [
    "Saving our book"
   ]
  },
  {
   "cell_type": "code",
   "execution_count": 15,
   "metadata": {},
   "outputs": [],
   "source": [
    "import pickle\n",
    "with open(datapath+'geobook_plain_28082024.pkl', 'wb') as f:\n",
    "    pickle.dump(plainbook, f)"
   ]
  },
  {
   "cell_type": "code",
   "execution_count": null,
   "metadata": {},
   "outputs": [],
   "source": []
  }
 ],
 "metadata": {
  "kernelspec": {
   "display_name": "base",
   "language": "python",
   "name": "python3"
  },
  "language_info": {
   "codemirror_mode": {
    "name": "ipython",
    "version": 3
   },
   "file_extension": ".py",
   "mimetype": "text/x-python",
   "name": "python",
   "nbconvert_exporter": "python",
   "pygments_lexer": "ipython3",
   "version": "3.11.5"
  }
 },
 "nbformat": 4,
 "nbformat_minor": 2
}
