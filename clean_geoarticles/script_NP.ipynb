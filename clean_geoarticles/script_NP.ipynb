{
 "cells": [
  {
   "cell_type": "markdown",
   "metadata": {},
   "source": [
    "**goal is to trim 15 510 geographical articles, to charaterize each headphrase by the Geographical Entities (GE) mentionned.**"
   ]
  },
  {
   "cell_type": "code",
   "execution_count": 1,
   "metadata": {},
   "outputs": [],
   "source": [
    "import sys\n",
    "sys.path.append('/home/antoine/Documents/GitHub/linkencyclo')\n",
    "datapath = '/home/antoine/Documents/GitHub/datas/'\n",
    "\n",
    "from EncycloObject import Article, Book\n",
    "import pickle\n",
    "import stanza"
   ]
  },
  {
   "cell_type": "markdown",
   "metadata": {},
   "source": [
    "We load a `Book` instance :"
   ]
  },
  {
   "cell_type": "code",
   "execution_count": 2,
   "metadata": {},
   "outputs": [
    {
     "name": "stdout",
     "output_type": "stream",
     "text": [
      "Book with 15510\n"
     ]
    }
   ],
   "source": [
    "with open(datapath+'mybook_19062024.pkl', 'rb') as f:\n",
    "    mybook = pickle.load(f)\n",
    "print(mybook)"
   ]
  },
  {
   "cell_type": "markdown",
   "metadata": {},
   "source": [
    "Example of the Article instance with hash `7/2925/GRENOBLE`"
   ]
  },
  {
   "cell_type": "code",
   "execution_count": 3,
   "metadata": {},
   "outputs": [
    {
     "data": {
      "text/plain": [
       "('https://artflsrv04.uchicago.edu/philologic4.7/encyclopedie0922/navigate/7/2925',\n",
       " '7/2925/GRENOBLE',\n",
       " 'GRENOBLE, Gratianopolis, (Géogr.) ancienne ville de France, capitale du Dauphiné, avec un évêché suffragant de Vienne, & un parlement érigé en 1493 par Louis XI. qui n\\'étoit encore que dauphin ;  mais son pere ratifia cette érection deux ans après.\\nGrenoble est sur l\\'Isere, à onze lieues S O. de Chambéri, quarante-deux N. O. de Turin, seize S. E. de Vienne, cent vingt-quatre S. O. de Paris. Long. suivant Harris, 23d. 31\\'. 15\". suivant Cassini, 23d. 14\\'. 15\". latit 45d. 11\\'.\\nCette ville reçut le nom de Gratianopolis de l\\'empereur  Gratien fils de Valentinien I. car elle s\\'appelloit  auparavant Cularo ; & c\\'est sous ce nom qu\\'il en est parlé dans une lettre de Plancus à Cicéron, epist. xxiij. Long-tems après, les Romains l\\'érigerent en cité: dans le cinquieme siecle, elle fut assujettie par les Bourguignons, & dans le sixieme par les François Mérovingiens ; ensuite elle a obéi à Lothaire, à Boson, à Charles le Gros, à Louis l\\'Aveugle, à Rodolphe II. à Conrad & à Rodolphe le lâche, ses fils, qui lui donnerent de grands priviléges.\\nOn met au nombre des jurisconsultes dont Grenoble est la patrie, Pape (Guy), qui mourut en 1487 ; son recueil de décisions des plus belles questions de droit, n\\'est pas encore tombé dans l\\'oubli.\\nM. de Bouchenu de Valbonnais, (Jean Pierre Moret) premier président du parlement de Grenoble, né dans cette ville le 23 Juin 1651, mérite le titre du plus savant historiographe de son pays, par la belle histoire du Dauphiné, qu\\'il a publiée en trois vol. in fol. il est mort en 1730, âgé de 79 ans. Il voyagea dans sa jeunesse, & se trouva sur la flotte d\\'Angleterre à la bataille de Solbaye, la plus furieuse qu\\'eût encore  vû Ruyter, & où l\\'on s\\'attribua l\\'avantage de part & d\\'autre. (D. J.)')"
      ]
     },
     "execution_count": 3,
     "metadata": {},
     "output_type": "execute_result"
    }
   ],
   "source": [
    "grenoble = mybook._reach_article(headword='grenoble')\n",
    "grenoble.artfl, grenoble.hash, grenoble.text"
   ]
  },
  {
   "cell_type": "markdown",
   "metadata": {},
   "source": [
    "# Part-of-Speech parsing\n",
    "We rely on stanza parser to tag each token with a POS. This will help us to normalize the GE phrases : going from\n",
    "- `ancienne ville` to `ville`\n",
    "- `royaume de France` to `france`\n",
    "- `St. Etienne` to `saint etienne`\n",
    "\n",
    "Stanza doc are stored in the `.parsed` attribute"
   ]
  },
  {
   "cell_type": "code",
   "execution_count": 4,
   "metadata": {},
   "outputs": [
    {
     "name": "stderr",
     "output_type": "stream",
     "text": [
      "2024-08-21 18:32:22 INFO: Checking for updates to resources.json in case models have been updated.  Note: this behavior can be turned off with download_method=None or download_method=DownloadMethod.REUSE_RESOURCES\n"
     ]
    },
    {
     "data": {
      "application/vnd.jupyter.widget-view+json": {
       "model_id": "faa9b1b884b44eed80fc0005e369cf1d",
       "version_major": 2,
       "version_minor": 0
      },
      "text/plain": [
       "Downloading https://raw.githubusercontent.com/stanfordnlp/stanza-resources/main/resources_1.8.0.json:   0%|   …"
      ]
     },
     "metadata": {},
     "output_type": "display_data"
    },
    {
     "name": "stderr",
     "output_type": "stream",
     "text": [
      "2024-08-21 18:32:22 INFO: Downloaded file to /home/antoine/stanza_resources/resources.json\n",
      "2024-08-21 18:32:22 INFO: Loading these models for language: fr (French):\n",
      "===============================\n",
      "| Processor | Package         |\n",
      "-------------------------------\n",
      "| tokenize  | combined        |\n",
      "| mwt       | combined        |\n",
      "| pos       | combined_charlm |\n",
      "===============================\n",
      "\n",
      "2024-08-21 18:32:22 INFO: Using device: cpu\n",
      "2024-08-21 18:32:22 INFO: Loading: tokenize\n",
      "2024-08-21 18:32:23 INFO: Loading: mwt\n",
      "2024-08-21 18:32:23 INFO: Loading: pos\n",
      "2024-08-21 18:32:23 INFO: Done loading processors!\n"
     ]
    }
   ],
   "source": [
    "nlpstanza = stanza.Pipeline(lang='fr', processors='tokenize,mwt, pos')"
   ]
  },
  {
   "cell_type": "code",
   "execution_count": 5,
   "metadata": {},
   "outputs": [],
   "source": [
    "for article in [grenoble]:\n",
    "    article.parsed = nlpstanza(article.text)\n",
    "    #break"
   ]
  },
  {
   "cell_type": "markdown",
   "metadata": {},
   "source": [
    "# Named Entity Recognition\n",
    "We apply the BERT model to identify GE in each article.\n",
    "\n",
    "From\n",
    "> 7/2925/GRENOBLE \n",
    "> \n",
    "> 'GRENOBLE, Gratianopolis, (Géogr.) ancienne ville de France, capitale du Dauphiné, avec un évêché suffragant de Vienne, ...'\n",
    "\n",
    "We want to store in the `article.ner` attribute the following list :\n",
    "```python\n",
    "[\n",
    "    {'entity_group': 'Head', 'score': 0.96214443, 'word': 'GRENOBLE, Gratianopolis', 'start': 0, 'end': 23},\n",
    "    {'entity_group': 'Domain_mark', 'score': 0.9491153, 'word': 'Géogr.', 'start': 18, 'end': 24},\n",
    "    {'entity_group': 'NC_Spatial', 'score': 0.9601506, 'word': 'ancienne ville', 'start': 26, 'end': 40},\n",
    "    {'entity_group': 'NP_Spatial', 'score': 0.96639144, 'word': 'France', 'start': 44, 'end': 50},\n",
    "    {'entity_group': 'NC_Spatial', 'score': 0.96316826, 'word': 'capitale', 'start': 52, 'end': 60},\n",
    "    {'entity_group': 'NP_Spatial', 'score': 0.9662918, 'word': 'Dauphiné', 'start': 64, 'end': 72},\n",
    "    {'entity_group': 'NC_Spatial', 'score': 0.96156704, 'word': 'un évêché suffragant', 'start': 79, 'end': 99},\n",
    "    {'entity_group': 'NP_Spatial', 'score': 0.9662691, 'word': 'Vienne', 'start': 103, 'end': 109},\n",
    "    ...\n",
    "]\n",
    "```\n"
   ]
  },
  {
   "cell_type": "code",
   "execution_count": 6,
   "metadata": {},
   "outputs": [],
   "source": [
    "# loading stopwords from Solr\n",
    "with open('solr_stopwords.txt', 'r') as f:\n",
    "    stopwords = f.read().split('\\n') "
   ]
  },
  {
   "cell_type": "code",
   "execution_count": 7,
   "metadata": {},
   "outputs": [
    {
     "name": "stderr",
     "output_type": "stream",
     "text": [
      "/home/antoine/anaconda3/lib/python3.11/site-packages/transformers/utils/generic.py:260: UserWarning: torch.utils._pytree._register_pytree_node is deprecated. Please use torch.utils._pytree.register_pytree_node instead.\n",
      "  torch.utils._pytree._register_pytree_node(\n",
      "/home/antoine/anaconda3/lib/python3.11/site-packages/huggingface_hub/file_download.py:1150: FutureWarning: `resume_download` is deprecated and will be removed in version 1.0.0. Downloads always resume when possible. If you want to force a new download, use `force_download=True`.\n",
      "  warnings.warn(\n"
     ]
    }
   ],
   "source": [
    "from transformers import pipeline\n",
    "bert = pipeline(\"token-classification\", model=\"GEODE/bert-base-french-cased-edda-ner\",\n",
    "                aggregation_strategy=\"simple\")"
   ]
  },
  {
   "cell_type": "code",
   "execution_count": 8,
   "metadata": {},
   "outputs": [],
   "source": [
    "for article in [grenoble]:\n",
    "    article.ner = article._apply_pipeline(bert)\n",
    "    #break"
   ]
  },
  {
   "cell_type": "markdown",
   "metadata": {},
   "source": [
    "We then add NER tags to the Stanza doc thanks to the method `Article._enrich_stanzadoc`\n",
    "- native `Token` instances of the Stanza doc receive the NER tags\n",
    "- native `Span` instances of the Stanza doc receive the contiguous merged NER tags"
   ]
  },
  {
   "cell_type": "code",
   "execution_count": 18,
   "metadata": {},
   "outputs": [],
   "source": [
    "for article in [grenoble]:\n",
    "    article.ner = article._apply_pipeline(bert)\n",
    "    ncs, nps = article._enrich_stanzadoc(stopwords=stopwords)"
   ]
  },
  {
   "cell_type": "code",
   "execution_count": 20,
   "metadata": {},
   "outputs": [
    {
     "data": {
      "text/plain": [
       "(True, True)"
      ]
     },
     "execution_count": 20,
     "metadata": {},
     "output_type": "execute_result"
    }
   ],
   "source": [
    "grenoble.ncs == ncs, grenoble.nps == nps"
   ]
  }
 ],
 "metadata": {
  "kernelspec": {
   "display_name": "base",
   "language": "python",
   "name": "python3"
  },
  "language_info": {
   "codemirror_mode": {
    "name": "ipython",
    "version": 3
   },
   "file_extension": ".py",
   "mimetype": "text/x-python",
   "name": "python",
   "nbconvert_exporter": "python",
   "pygments_lexer": "ipython3",
   "version": "3.11.5"
  }
 },
 "nbformat": 4,
 "nbformat_minor": 2
}
